{
  "nbformat": 4,
  "nbformat_minor": 0,
  "metadata": {
    "colab": {
      "name": "SPI_Semana4_sesión2",
      "provenance": []
    },
    "kernelspec": {
      "name": "python3",
      "display_name": "Python 3"
    },
    "language_info": {
      "name": "python"
    }
  },
  "cells": [
    {
      "cell_type": "code",
      "execution_count": 13,
      "metadata": {
        "colab": {
          "base_uri": "https://localhost:8080/"
        },
        "id": "EcihrFDVNUNM",
        "outputId": "672d4dff-5b07-4c5a-f957-0a45aef920a4"
      },
      "outputs": [
        {
          "output_type": "stream",
          "name": "stdout",
          "text": [
            "apple\n",
            "banana\n",
            "cherry\n",
            "c\n",
            "a\n",
            "d\n",
            "e\n",
            "n\n",
            "a\n",
            "15.5\n"
          ]
        }
      ],
      "source": [
        "frutas = [\"apple\", \"banana\", \"cherry\"]\n",
        "for x in frutas:\n",
        "  print(x)\n",
        "\n",
        "for y in \"cadena\":\n",
        "  print(y)\n",
        "\n",
        "# Obtener el promedio de una lista de notas:\n",
        "notas = [13, 15, 17, 18, 10, 20]\n",
        "suma_notas = 0\n",
        "for nota in notas:\n",
        "  suma_notas = suma_notas + nota\n",
        "promedio = suma_notas / len(notas)\n",
        "print(promedio)"
      ]
    },
    {
      "cell_type": "code",
      "source": [
        "frutas = [\"apple\", \"banana\", \"cherry\"]\n",
        "for x in frutas:\n",
        "  print(x)\n",
        "  if x == \"apple\":\n",
        "    break\n",
        "  print(x)\n",
        "print(\"Fin del programa\")"
      ],
      "metadata": {
        "colab": {
          "base_uri": "https://localhost:8080/"
        },
        "id": "9b13xvOhQl4W",
        "outputId": "218d8917-0c7c-401d-d191-2a09567d87e6"
      },
      "execution_count": 5,
      "outputs": [
        {
          "output_type": "stream",
          "name": "stdout",
          "text": [
            "apple\n",
            "Fin del programa\n"
          ]
        }
      ]
    },
    {
      "cell_type": "code",
      "source": [
        "frutas = [\"apple\", \"banana\", \"cherry\"]\n",
        "for x in frutas:\n",
        "  if x == \"banana\":\n",
        "    continue\n",
        "  print(x)\n",
        "print(\"Fin del programa\")"
      ],
      "metadata": {
        "colab": {
          "base_uri": "https://localhost:8080/"
        },
        "id": "23JEQqePRdBz",
        "outputId": "f16a3be8-1887-49c4-e8dd-749aafa6fb19"
      },
      "execution_count": 10,
      "outputs": [
        {
          "output_type": "stream",
          "name": "stdout",
          "text": [
            "apple\n",
            "cherry\n",
            "Fin del programa\n"
          ]
        }
      ]
    },
    {
      "cell_type": "code",
      "source": [
        "for x in range(6):\n",
        "  print(x)\n",
        "else:\n",
        "  print(\"For finalizado\")\n",
        "print(\"Fin del programa\")"
      ],
      "metadata": {
        "colab": {
          "base_uri": "https://localhost:8080/"
        },
        "id": "LWSjXqJkSAYt",
        "outputId": "545159bf-6b19-4761-8828-f28a11e70bb8"
      },
      "execution_count": 14,
      "outputs": [
        {
          "output_type": "stream",
          "name": "stdout",
          "text": [
            "0\n",
            "1\n",
            "2\n",
            "3\n",
            "4\n",
            "5\n",
            "For finalizado\n",
            "Fin del programa\n"
          ]
        }
      ]
    },
    {
      "cell_type": "code",
      "source": [
        "adjetivos = [\"red\", \"big\", \"tasty\"]\n",
        "frutas = [\"apple\", \"banana\", \"cherry\"]\n",
        "\n",
        "for x in adjetivos:\n",
        "  for y in frutas:\n",
        "   print(x, y)\n"
      ],
      "metadata": {
        "colab": {
          "base_uri": "https://localhost:8080/"
        },
        "id": "xLGc-sjTS4C0",
        "outputId": "59cbd207-516a-43f5-d574-16811fc48c09"
      },
      "execution_count": 16,
      "outputs": [
        {
          "output_type": "stream",
          "name": "stdout",
          "text": [
            "red apple\n",
            "red banana\n",
            "red cherry\n",
            "big apple\n",
            "big banana\n",
            "big cherry\n",
            "tasty apple\n",
            "tasty banana\n",
            "tasty cherry\n"
          ]
        }
      ]
    },
    {
      "cell_type": "code",
      "source": [
        "indice = 0\n",
        "numeros = [3, 4, 5, 6, 7, 8, 9, 10, 11, 12]\n",
        "for numero in numeros:\n",
        "  numeros[indice] = numeros[indice] * 10\n",
        "  indice += 1\n",
        "numeros"
      ],
      "metadata": {
        "colab": {
          "base_uri": "https://localhost:8080/"
        },
        "id": "nQqvdW2lTNxE",
        "outputId": "221d2eb2-a8ea-40fc-dbe3-fc6723e0c23e"
      },
      "execution_count": 27,
      "outputs": [
        {
          "output_type": "execute_result",
          "data": {
            "text/plain": [
              "[30, 40, 50, 60, 70, 80, 90, 100, 110, 120]"
            ]
          },
          "metadata": {},
          "execution_count": 27
        }
      ]
    },
    {
      "cell_type": "code",
      "source": [
        "indice = 0\n",
        "numeros = [1, 2, 3, 4, 5, 6, 7, 8, 9, 10, 11, 12]\n",
        "print(list(enumerate(numeros)))\n",
        "\n",
        "for indice, numero in (enumerate(numeros)):\n",
        "  numeros[indice] *= 10\n",
        "numeros"
      ],
      "metadata": {
        "colab": {
          "base_uri": "https://localhost:8080/"
        },
        "id": "x4DadPgUUZHG",
        "outputId": "67abd4c7-66ff-4b87-ec7e-23f30a834f43"
      },
      "execution_count": 31,
      "outputs": [
        {
          "output_type": "stream",
          "name": "stdout",
          "text": [
            "[(0, 1), (1, 2), (2, 3), (3, 4), (4, 5), (5, 6), (6, 7), (7, 8), (8, 9), (9, 10), (10, 11), (11, 12)]\n"
          ]
        },
        {
          "output_type": "execute_result",
          "data": {
            "text/plain": [
              "[10, 20, 30, 40, 50, 60, 70, 80, 90, 100, 110, 120]"
            ]
          },
          "metadata": {},
          "execution_count": 31
        }
      ]
    },
    {
      "cell_type": "code",
      "source": [
        "import random # 32\n",
        "ganador = \"Empate\"\n",
        "#1 = Piedra\n",
        "#2 = Papel\n",
        "#3 = Tijera\n",
        "\n",
        "while ganador == \"Empate\":\n",
        "  NInes = (random.randrange(1, 4))\n",
        "  NJuan = (random.randrange(1, 4))\n",
        "  print(\"Ines\", NInes)\n",
        "  print(\"Juan\", NJuan)\n",
        "  if NInes == NJuan:\n",
        "    ganador = \"Empate\"\n",
        "  elif NInes == 1 and NJuan == 3:\n",
        "    ganador = \"Ines\"\n",
        "  elif NJuan == 1 and NInes == 3:\n",
        "    ganador = \"Juan\"\n",
        "  elif NInes > NJuan:\n",
        "    ganador = \"Ines\"\n",
        "  elif NJuan > NInes:\n",
        "    ganador = \"Juan\"\n",
        "\n",
        "print(\"El ganador(a) es\", ganador)\n"
      ],
      "metadata": {
        "colab": {
          "base_uri": "https://localhost:8080/"
        },
        "id": "5eKMjPSvXXBi",
        "outputId": "7843565d-b664-4220-ee2a-4af80b35831e"
      },
      "execution_count": 74,
      "outputs": [
        {
          "output_type": "stream",
          "name": "stdout",
          "text": [
            "Ines 3\n",
            "Juan 2\n",
            "El ganador(a) es Ines\n"
          ]
        }
      ]
    },
    {
      "cell_type": "code",
      "source": [
        "import random # 34\n",
        "\n",
        "n1 = (random.randrange(11, 100))\n",
        "n2 = (random.randrange(11, 100))\n",
        "\n",
        "print(\"El número 1 es\", n1)\n",
        "print(\"El número 2 es\", n2)\n",
        "\n",
        "print(\"Tabla de multiplicar\")\n",
        "for x in range(1, n2 + 1):\n",
        "  multiplicacion = n1 * x\n",
        "  print(n1, \"x\", x, \"=\", multiplicacion)"
      ],
      "metadata": {
        "colab": {
          "base_uri": "https://localhost:8080/"
        },
        "id": "R9n36kw-gEkQ",
        "outputId": "da81cd8d-4227-4574-8a3b-6d7173e1f26c"
      },
      "execution_count": 80,
      "outputs": [
        {
          "output_type": "stream",
          "name": "stdout",
          "text": [
            "El número 1 es 24\n",
            "El número 2 es 28\n",
            "Tabla de multiplicar\n",
            "24 x 1 = 24\n",
            "24 x 2 = 48\n",
            "24 x 3 = 72\n",
            "24 x 4 = 96\n",
            "24 x 5 = 120\n",
            "24 x 6 = 144\n",
            "24 x 7 = 168\n",
            "24 x 8 = 192\n",
            "24 x 9 = 216\n",
            "24 x 10 = 240\n",
            "24 x 11 = 264\n",
            "24 x 12 = 288\n",
            "24 x 13 = 312\n",
            "24 x 14 = 336\n",
            "24 x 15 = 360\n",
            "24 x 16 = 384\n",
            "24 x 17 = 408\n",
            "24 x 18 = 432\n",
            "24 x 19 = 456\n",
            "24 x 20 = 480\n",
            "24 x 21 = 504\n",
            "24 x 22 = 528\n",
            "24 x 23 = 552\n",
            "24 x 24 = 576\n",
            "24 x 25 = 600\n",
            "24 x 26 = 624\n",
            "24 x 27 = 648\n",
            "24 x 28 = 672\n"
          ]
        }
      ]
    }
  ]
}